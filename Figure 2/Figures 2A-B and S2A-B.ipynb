{
 "cells": [
  {
   "cell_type": "code",
   "execution_count": 3,
   "metadata": {},
   "outputs": [],
   "source": [
    "from pathlib import Path\n",
    "\n",
    "import numpy as np\n",
    "import pandas as pd\n",
    "\n",
    "from calculate_preferences import calcPref\n",
    "\n",
    "# Change to your data directory\n",
    "basedir = Path('/Volumes/data-1/behavior/hakan')\n"
   ]
  },
  {
   "cell_type": "markdown",
   "metadata": {},
   "source": [
    "### Load data"
   ]
  },
  {
   "cell_type": "code",
   "execution_count": 4,
   "metadata": {},
   "outputs": [],
   "source": [
    "data_path = basedir/'Kucukdereli_atal_data/data_table_all_mice.h5'\n",
    "data_df = pd.read_hdf(data_path, key='data')\n",
    "\n",
    "data_path = basedir/'Kucukdereli_atal_data/raw_behavior_data_males.h5'\n",
    "male_data = pd.read_hdf(data_path, key='data')\n",
    "\n",
    "data_path = basedir/'Kucukdereli_atal_data/raw_behavior_data_females.h5'\n",
    "female_data = pd.read_hdf(data_path, key='data')\n"
   ]
  },
  {
   "cell_type": "code",
   "execution_count": 5,
   "metadata": {},
   "outputs": [],
   "source": [
    "# Additional imports and setting up the plots\n",
    "from scipy.stats import pearsonr, linregress, ttest_rel, bartlett\n",
    "from statsmodels.stats.multitest import multipletests\n",
    "\n",
    "import matplotlib.pyplot as plt\n",
    "\n",
    "font = {'family' : 'sans',\n",
    "        'weight' : 'regular',\n",
    "        'size'   : 8}\n",
    "plt.rc('font', **font)\n",
    "plt.rc('axes', linewidth=0.8)\n",
    "\n",
    "colors = {'gray':'#D4D4D4', 'darkgray':'#545454', \n",
    "          'male':'#FF5E74', 'male_light':'#FFABB6', \n",
    "          'female':'#00B7FF', 'female_light':'#9EE3FF'}\n"
   ]
  },
  {
   "cell_type": "code",
   "execution_count": 35,
   "metadata": {},
   "outputs": [],
   "source": [
    "stim = df.query(f'session in [1,2] & stim!=0 & {condition}==True').groupby('cueid').dt.sum()\n",
    "neutral = df.query(f'session in [1,2] & neutral!=0 & {condition}==True').groupby('cueid').dt.sum()"
   ]
  },
  {
   "cell_type": "code",
   "execution_count": 38,
   "metadata": {},
   "outputs": [
    {
     "data": {
      "text/plain": [
       "cueid\n",
       "103    137.519797\n",
       "459      4.111459\n",
       "353     17.299079\n",
       "272      0.401140\n",
       "107    213.020579\n",
       "          ...    \n",
       "366      1.715142\n",
       "174     16.265928\n",
       "281     13.738514\n",
       "114    266.596166\n",
       "289     14.755450\n",
       "Name: dt, Length: 487, dtype: float64"
      ]
     },
     "execution_count": 38,
     "metadata": {},
     "output_type": "execute_result"
    }
   ],
   "source": [
    "neutral.sample(n=len(neutral), replace=True, random_state=42)"
   ]
  },
  {
   "cell_type": "code",
   "execution_count": 158,
   "metadata": {},
   "outputs": [
    {
     "data": {
      "text/plain": [
       "-0.3988265468305971"
      ]
     },
     "execution_count": 158,
     "metadata": {},
     "output_type": "execute_result"
    }
   ],
   "source": [
    "np.concatenate(df.to_numpy()).reshape(-1, 2)[:,0].mean()\n",
    "# .query('mouse==@mouse & experiment==@experiment')"
   ]
  },
  {
   "cell_type": "code",
   "execution_count": null,
   "metadata": {},
   "outputs": [],
   "source": []
  },
  {
   "cell_type": "code",
   "execution_count": 173,
   "metadata": {},
   "outputs": [],
   "source": [
    "sex = 'female'\n",
    "nshuffles = 1000\n",
    "\n",
    "titles = {'preference':'Baseline', 'test':'AgRP only', 'test_':'AgRP + stress'}\n",
    "\n",
    "pref_df = female_data.query('session in [1,2]').groupby(['mouse','experiment','day']).apply(calcPref, 'dwell')\n",
    "shuffle_df = female_data.query('session in [1,2]').groupby(['mouse','experiment','day']).apply(calcPrefShuffle, nshuffles, 'dwell')\n",
    "mice = shuffle_df.index.get_level_values('mouse').unique().to_numpy()\n",
    "experiments = shuffle_df.index.get_level_values('experiment').unique().to_numpy()\n",
    "\n",
    "fig, axs = plt.subplots(len(mice),len(experiments), figsize=(len(experiments)*1.6,len(mice)*1.2), dpi=150,\n",
    "                        sharex=False, sharey=True, gridspec_kw={'wspace':0.2, 'hspace':1.5, 'width_ratios':[1,5,5]})\n",
    "\n",
    "for (mouse, experiment), df in shuffle_df.apply(np.quantile, q=[.025, .975]).groupby(['mouse','experiment']):\n",
    "    days = df.index.get_level_values('day').unique().to_numpy()\n",
    "    \n",
    "    i, j = np.argwhere(mouse==mice).flatten()[0], np.argwhere(experiment==experiments).flatten()[0]\n",
    "    ax = axs[i,j]\n",
    "\n",
    "    ax.set_ylim(-1,1)\n",
    "\n",
    "    if experiment=='preference':\n",
    "        ax.set_title(f'(Mouse {mouse})\\n{titles[experiment]}')\n",
    "\n",
    "        ax.set_ylabel('AgRP preference')\n",
    "\n",
    "        ax.set_xlim([-0.5, 1.5])\n",
    "        ax.set_xticks([1])\n",
    "        ax.set_xticklabels([1])\n",
    "\n",
    "        ax.plot([-0.5, 1.5], [0,0], color='k', lw=1, ls=(2,(2,2)), zorder=-1)\n",
    "        ax.plot(1, pref_df.loc[mouse, experiment].mean(), color=colors[sex], marker='_', lw=1.2, clip_on=False, zorder=2)\n",
    "        ax.plot([1,1], [np.concatenate(df.to_numpy()).reshape(-1, 2)[:,0].mean(), \n",
    "                        np.concatenate(df.to_numpy()).reshape(-1, 2)[:,1].mean()], \n",
    "                        color=colors[sex], lw=1.5, alpha=0.35, clip_on=False, zorder=2)\n",
    "    else:\n",
    "        ax.set_title(f'{titles[experiment]}')\n",
    "\n",
    "        ax.set_xlim(days[0]-0.5, days[-1]+0.5)\n",
    "        ax.set_xticks(days)\n",
    "        ax.set_xticklabels(days)\n",
    "        ax.set_xlabel('Test days')\n",
    "\n",
    "        ax.plot([days[0]-0.5, days[-1]+0.5], [0,0], color='k', lw=1, ls=(2,(2,2)), zorder=-1)\n",
    "        ax.fill_between(days, np.concatenate(df.to_numpy()).reshape(-1, 2)[:,0], \n",
    "                        np.concatenate(df.to_numpy()).reshape(-1, 2)[:,1],\n",
    "                        color=colors[sex], alpha=0.35, lw=0, clip_on=False, zorder=1)\n",
    "        ax.plot(days, pref_df.loc[mouse, experiment].to_numpy(), color=colors[sex], lw=1.2, clip_on=False, zorder=2)\n",
    "\n"
   ]
  },
  {
   "cell_type": "code",
   "execution_count": null,
   "metadata": {},
   "outputs": [],
   "source": []
  },
  {
   "cell_type": "code",
   "execution_count": null,
   "metadata": {},
   "outputs": [],
   "source": []
  },
  {
   "cell_type": "code",
   "execution_count": null,
   "metadata": {},
   "outputs": [],
   "source": [
    "fig, axs = plt.subplots(len(table.mouse.unique()),1, figsize=(2,len(table.mouse.unique())*1.2), dpi=100)\n",
    "fig.subplots_adjust(hspace=1)\n",
    "axs = axs.ravel()\n",
    "\n",
    "pref_df, pref_dist_df = [], []\n",
    "\n",
    "c = 0\n",
    "for (mouse, experiment), df in tqdm(table.query(\"experiment in ['preference'] & day in [1,2]\").groupby(['mouse','experiment'])):\n",
    "    if len(df):\n",
    "        trial_n1 = df.query(\"day==1\").query(\"trial_1!=0\").trial.unique()\n",
    "        stim_n1 = df.query(\"day==1\").query('stim==1 & trial_1!=0').trial.unique()\n",
    "        neutral_n1 = df.query(\"day==1\").query('stim==0 & trial_1!=0').trial.unique()\n",
    "        trial_n2 = df.query(\"day==2\").query(\"trial_1!=0\").trial.unique()\n",
    "        stim_n2 = df.query(\"day==2\").query('stim==1 & trial_1!=0').trial.unique()\n",
    "        neutral_n2 = df.query(\"day==2\").query('stim==0 & trial_1!=0').trial.unique()\n",
    "        \n",
    "        \n",
    "        # Calculate shuffled preferences\n",
    "        pref_dist = []\n",
    "        for i in range(shuffle_n):\n",
    "            stim_trials1 = np.random.choice(trial_n1, size=len(stim_n1), replace=False)\n",
    "            neutral_trials1 = np.random.choice(trial_n1, size=len(neutral_n1), replace=False)\n",
    "            stim_trials2 = np.random.choice(trial_n2, size=len(stim_n2), replace=False)\n",
    "            neutral_trials2 = np.random.choice(trial_n2, size=len(neutral_n2), replace=False)\n",
    "            \n",
    "            stim_t1 = df.query(\"day==1 & trial in @stim_trials1 & dwell!=0 & trial_1!=0\").dt.sum()\n",
    "            neutral_t1 = df.query(\"day==1 & trial in @neutral_trials1 & dwell!=0 & trial_1!=0\").dt.sum()\n",
    "            stim_t2 = df.query(\"day==2 & trial in @stim_trials2 & dwell!=0 & trial_1!=0\").dt.sum()\n",
    "            neutral_t2 = df.query(\"day==2 & trial in @neutral_trials2 & dwell!=0 & trial_1!=0\").dt.sum()\n",
    "            stim_t = stim_t1 + stim_t2\n",
    "            neutral_t = neutral_t1 + neutral_t2\n",
    "            \n",
    "            pref = (stim_t - neutral_t) / (stim_t + neutral_t)\n",
    "            pref_dist.append(pref)\n",
    "        ci_lo, ci_hi = np.quantile(pref_dist, [.025, .975])\n",
    "        pref_dist_df.append(pd.DataFrame({'mouse':mouse,'date':df.date.unique()[0],\n",
    "                                         'experiment':experiment,'day':1,\n",
    "                                         'pref':np.sort(pref_dist)}))\n",
    "        \n",
    "        stim_t1 = df.query(\"day==1 & stim==1 & dwell!=0 & trial_1!=0\").dt.sum()\n",
    "        neutral_t1 = df.query(\"day==1 & stim==0 & dwell!=0 & trial_1!=0\").dt.sum()\n",
    "        stim_t2 = df.query(\"day==2 & stim==1 & dwell!=0 & trial_1!=0\").dt.sum()\n",
    "        neutral_t2 = df.query(\"day==2 & stim==0 & dwell!=0 & trial_1!=0\").dt.sum()\n",
    "        stim_t = stim_t1 + stim_t2\n",
    "        neutral_t = neutral_t1 + neutral_t2\n",
    "            \n",
    "        pref = (stim_t - neutral_t) / (stim_t + neutral_t)\n",
    "        pref_df.append(pd.DataFrame({'mouse':mouse,'date':df.date.unique()[0],\n",
    "                                     'experiment':experiment,'day':1,\n",
    "                                     'pref':pref}, index=[0]))\n",
    "        \n",
    "        ax = axs[c]\n",
    "        ax.hist(pref_dist, color='lightgreen');\n",
    "        if (pref>ci_hi or pref<ci_lo):\n",
    "            ax.scatter(pref, 0, s=30, c='tomato', clip_on=False, zorder=99)\n",
    "        else:\n",
    "            ax.scatter(pref, 0, s=30, c='xkcd:purple blue', clip_on=False, zorder=99)\n",
    "        ax.set_title(f\"{mouse}, {experiment}, {1}\")\n",
    "        ax.set_xlim([-1,1])\n",
    "        \n",
    "        ax.plot([ci_lo,ci_hi], [0,0], linewidth=3, clip_on=False)\n",
    "    \n",
    "    c = c + 1\n",
    "    \n",
    "pref_df = pd.concat(pref_df, ignore_index=True)\n",
    "pref_dist_df = pd.concat(pref_dist_df, ignore_index=True)\n",
    "pref_df_female_preference = pref_df\n",
    "pref_dist_df_female_preference = pref_dist_df\n"
   ]
  }
 ],
 "metadata": {
  "kernelspec": {
   "display_name": "base",
   "language": "python",
   "name": "python3"
  },
  "language_info": {
   "codemirror_mode": {
    "name": "ipython",
    "version": 3
   },
   "file_extension": ".py",
   "mimetype": "text/x-python",
   "name": "python",
   "nbconvert_exporter": "python",
   "pygments_lexer": "ipython3",
   "version": "3.10.12"
  }
 },
 "nbformat": 4,
 "nbformat_minor": 2
}
