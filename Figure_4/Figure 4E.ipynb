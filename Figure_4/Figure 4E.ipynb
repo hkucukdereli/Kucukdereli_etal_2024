{
 "cells": [
  {
   "cell_type": "code",
   "execution_count": null,
   "metadata": {},
   "outputs": [],
   "source": [
    "from pathlib import Path\n",
    "\n",
    "import numpy as np\n",
    "import pandas as pd\n",
    "\n",
    "# Change to your data directory\n",
    "basedir = Path('/Volumes/data-1/behavior/hakan')\n",
    "imagedir = Path('/mnt/ssd_cache/manual_cache')\n"
   ]
  },
  {
   "cell_type": "markdown",
   "metadata": {},
   "source": [
    "### Load data"
   ]
  },
  {
   "cell_type": "code",
   "execution_count": null,
   "metadata": {},
   "outputs": [],
   "source": [
    "data_path = basedir/'Kucukdereli_atal_data/data_table_all_mice.h5'\n",
    "\n",
    "data_df = pd.read_hdf(data_path, key='data')\n"
   ]
  },
  {
   "cell_type": "code",
   "execution_count": null,
   "metadata": {},
   "outputs": [],
   "source": [
    "# Additional imports and setting up the plots\n",
    "import pickle\n",
    "from tqdm import tqdm\n",
    "\n",
    "import matplotlib.pyplot as plt\n",
    "\n",
    "font = {'family' : 'sans',\n",
    "        'weight' : 'regular',\n",
    "        'size'   : 8}\n",
    "plt.rc('font', **font)\n",
    "plt.rc('axes', linewidth=0.8)\n",
    "\n",
    "colors = {'gray':'#D4D4D4', 'darkgray':'#545454', \n",
    "          'male':'#FF5E74', 'male_light':'#FFABB6', \n",
    "          'female':'#00B7FF', 'female_light':'#9EE3FF'}\n"
   ]
  },
  {
   "cell_type": "markdown",
   "metadata": {},
   "source": [
    "## Figure 4E"
   ]
  },
  {
   "cell_type": "markdown",
   "metadata": {},
   "source": [
    "### Display mean faces"
   ]
  },
  {
   "cell_type": "markdown",
   "metadata": {},
   "source": [
    "Mean faces are plotted from randomly selected matched number frames from each condition. For details see *Classification of facial expressions* under Methods."
   ]
  },
  {
   "cell_type": "code",
   "execution_count": null,
   "metadata": {},
   "outputs": [],
   "source": [
    "mice_ordered = data_df.sort_values([('test_', 5)])[('mouse','mouse')]\n",
    "\n",
    "full_df = pickle.load(open(f'{basedir}/oren/eval_agrp_stress_all_mice_table.pkl','rb'))\n",
    "full_df = full_df.query(\"experiment=='test_' & day==5 & train==0\").copy()\n",
    "full_df_ordered = pd.concat([full_df.query(\"mouse==@mouse\") for mouse in mice_ordered])\n"
   ]
  },
  {
   "cell_type": "code",
   "execution_count": null,
   "metadata": {},
   "outputs": [],
   "source": [
    "# Orientation of the faces\n",
    "# Faces facing left will be flipped to face right\n",
    "face_ori = {'HK125':'R', 'HK89':'R', 'HK129':'L', 'HK90':'L', 'HK94':'R', \n",
    "            'HK88':'L', 'HK127':'R', 'HK96':'L', 'HK123':'R', 'HK120':'L', \n",
    "            'HK122':'L', 'HK98':'L', 'HK99':'R', 'HK95':'R', 'HK128':'R', 'HK124':'L'}\n"
   ]
  },
  {
   "cell_type": "code",
   "execution_count": null,
   "metadata": {},
   "outputs": [],
   "source": [
    "class_threshold = 0.95 # Set a threshold for the class prediction\n",
    "\n",
    "n = np.ceil(np.sqrt(len(face_ori))).astype(int)\n",
    "fig, axs = plt.subplots(n, n, figsize=(n*1.5,n*1.5), dpi=150)\n",
    "axs = axs.ravel()\n",
    "for j, ((mouse, date), df) in enumerate(full_df_ordered.groupby(['mouse', 'date'], sort=False)):     \n",
    "    shap_dir = f'{basedir}/{mouse}/shap'\n",
    "    if (os.path.isdir(shap_dir)):\n",
    "        shap_path = f'{shap_dir}/{mouse}_{date}_shap.pkl'\n",
    "        if os.path.isfile(shap_path):\n",
    "            outs = pickle.load(open(shap_path, 'rb'))\n",
    "\n",
    "        images = []\n",
    "        for n in tqdm(outs['frame_n'], desc=f'{mouse} {date}'):\n",
    "            img_path = f'{imagedir}/{mouse}/{date}_{mouse}/DLCmask/{mouse}_{date}_{n}.jpg'\n",
    "            img = np.asarray(Image.open(img_path))\n",
    "            images.append(img)\n",
    "        images = np.array([im[:,:,np.newaxis] for im in images])\n",
    "        \n",
    "        ax = axs[j]\n",
    "        \n",
    "        axs[0,0].text(x=-0.1, y=0.5, s='Stim', rotation=90, ha='center', va='center', transform=axs[0,0].transAxes)\n",
    "        axs[1,0].text(x=-0.1, y=0.5, s='Neutral', rotation=90, ha='center', va='center', transform=axs[1,0].transAxes)\n",
    "        [ax.axis('off') for ax in axs.ravel()]\n",
    "        \n",
    "        df = full_df.query(\"mouse==@mouse & date==@date & train==0\")\n",
    "\n",
    "        # Plot images that are classified as stim or neutral with high probability\n",
    "        indx_stim = df.query(f\"pred==1 & p_1>={class_threshold}\")['frame_n'].to_numpy()\n",
    "        indx_stim = np.ravel([np.argwhere(i==outs['frame_n']) for i in indx_stim])\n",
    "        indx_neutral = df.query(f\"pred==0 & p_0>={class_threshold}\")['frame_n'].to_numpy()\n",
    "        indx_neutral = np.ravel([np.argwhere(i==outs['frame_n']) for i in indx_neutral])\n",
    "        print(f'{mouse} {class_threshold}-> ', indx_stim.shape, indx_neutral.shape)\n",
    "        if len(indx_stim):\n",
    "            axs[0,0].imshow(images[indx_stim,:,:,0].mean(axis=0), 'gray')\n",
    "            axs[0,0].set_title(f\"p>={class_threshold}\")\n",
    "        if len(indx_neutral):\n",
    "            axs[1,0].imshow(images[indx_neutral,:,:,0].mean(axis=0), 'gray')\n"
   ]
  },
  {
   "cell_type": "code",
   "execution_count": null,
   "metadata": {},
   "outputs": [],
   "source": []
  }
 ],
 "metadata": {
  "kernelspec": {
   "display_name": "base",
   "language": "python",
   "name": "python3"
  },
  "language_info": {
   "codemirror_mode": {
    "name": "ipython",
    "version": 3
   },
   "file_extension": ".py",
   "mimetype": "text/x-python",
   "name": "python",
   "nbconvert_exporter": "python",
   "pygments_lexer": "ipython3",
   "version": "3.10.12"
  }
 },
 "nbformat": 4,
 "nbformat_minor": 2
}
